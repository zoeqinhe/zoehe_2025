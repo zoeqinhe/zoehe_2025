{
 "cells": [
  {
   "cell_type": "markdown",
   "id": "729528e3",
   "metadata": {},
   "source": [
    "---\n",
    "layout: base\n",
    "title: Interview\n",
    "description: LinkedIn, Team Video, Self-Reflection\n",
    "hide: true\n",
    "permalink: /interview/\n",
    "---"
   ]
  },
  {
   "cell_type": "markdown",
   "id": "23039bd4",
   "metadata": {},
   "source": [
    "## Link to LinkedIn Profile\n",
    "- https://www.linkedin.com/in/zoe-he-572226331/"
   ]
  },
  {
   "cell_type": "markdown",
   "id": "adefdd63",
   "metadata": {},
   "source": [
    "## Picture of Resume\n",
    "- ![resume](../images/resume.png)"
   ]
  },
  {
   "cell_type": "markdown",
   "id": "f98b7443",
   "metadata": {},
   "source": [
    "## Introduction of Key Interests and Coding\n",
    "- Key Interests: Clinical psychology, sociology, mental health\n",
    "- How it aligns with coding: aspects of psychology and sociology can align with that of coding because of the similarities with human interactions. When creating a program or a website intended for public use, it is important for it to be interactive and user-friendly. This can be achieved by applying studies and patterns learned from psychology into computer systems and coding to help these programs become more efficient, engaging, and beneficial. \n",
    "- Also, I realize that as computer science is revolutionizing technology and digital programs, and these tools can also become the center of the mental health of psychology field. Whether it's educational software or technology-based methods to treatment, my knowledge in coding may help my adapt to these changes in psychology."
   ]
  },
  {
   "cell_type": "markdown",
   "id": "0727ae39",
   "metadata": {},
   "source": [
    "## Overview of Projects and Team Collaboration"
   ]
  },
  {
   "cell_type": "markdown",
   "id": "ceb287d6",
   "metadata": {},
   "source": [
    "## Teamwork Methodologies and My Participation"
   ]
  },
  {
   "cell_type": "markdown",
   "id": "8978a5e6",
   "metadata": {},
   "source": [
    "## Introduction of Full Stack Coding Skill Set"
   ]
  },
  {
   "cell_type": "markdown",
   "id": "75aacab1",
   "metadata": {},
   "source": [
    "## Introduction to ML Experience"
   ]
  },
  {
   "cell_type": "markdown",
   "id": "3474daaa",
   "metadata": {},
   "source": [
    "## GitHub Project and Profile Review"
   ]
  },
  {
   "cell_type": "markdown",
   "id": "4946b028",
   "metadata": {},
   "source": [
    "## How I Showcased Projects"
   ]
  },
  {
   "cell_type": "markdown",
   "id": "8d20f8ca",
   "metadata": {},
   "source": [
    "## Demo of Favorite Projects"
   ]
  },
  {
   "cell_type": "markdown",
   "id": "a3833e8d",
   "metadata": {},
   "source": [
    "## Unique Qualifications"
   ]
  }
 ],
 "metadata": {
  "language_info": {
   "name": "python"
  }
 },
 "nbformat": 4,
 "nbformat_minor": 5
}
