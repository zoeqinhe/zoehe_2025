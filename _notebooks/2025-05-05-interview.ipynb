{
 "cells": [
  {
   "cell_type": "markdown",
   "id": "729528e3",
   "metadata": {},
   "source": [
    "---\n",
    "layout: base\n",
    "title: Interview\n",
    "description: LinkedIn, Team Video, Self-Reflection\n",
    "hide: true\n",
    "permalink: /interview/\n",
    "---"
   ]
  },
  {
   "cell_type": "markdown",
   "id": "23039bd4",
   "metadata": {},
   "source": [
    "## Link to LinkedIn Profile\n",
    "\n",
    "<a href=\"https://www.linkedin.com/in/zoe-he-572226331/\" target=\"_blank\" style=\"display:inline-block; padding:10px 20px; font-size:16px; color:white; background-color:#0077B5; border-radius:8px; text-decoration:none; font-family: 'Segoe UI', sans-serif;\">Visit My LinkedIn</a>"
   ]
  },
  {
   "cell_type": "markdown",
   "id": "adefdd63",
   "metadata": {},
   "source": [
    "## Picture of Resume\n",
    "- ![resume](../images/resume.png)"
   ]
  },
  {
   "cell_type": "markdown",
   "id": "f98b7443",
   "metadata": {},
   "source": [
    "## Intersection of Key Interests and Coding\n",
    "Key Interests: Clinical psychology, sociology, mental health\n",
    "- How it aligns with coding: aspects of psychology and sociology can align with that of coding because of the similarities with human interactions. When creating a program or a website intended for public use, it is important for it to be interactive and user-friendly. This can be achieved by applying studies and patterns learned from psychology into computer systems and coding to help these programs become more efficient, engaging, and beneficial. \n",
    "- Also, I realize that as computer science is revolutionizing technology and digital programs, and these tools can also become the center of the mental health of psychology field. Whether it's educational software or technology-based methods to treatment, my knowledge in coding may help my adapt to these changes in psychology.\n",
    "- With the knowledge and experience I have gained in coding, I hope to be able to contribute to creating solutions/tools that enable emotional support and potential treatment options to be more easily accessible. "
   ]
  },
  {
   "cell_type": "markdown",
   "id": "0727ae39",
   "metadata": {},
   "source": [
    "## Overview of Projects and Team Collaboration\n",
    "**DNHS Cafe**\n",
    "- DNHS Cafe was a website intended to create a relaxing virtual study space where students could communicate and help each other in different classes\n",
    "- My role in this project was mainly to enhance the styling of the page and I helped with the overall design of the website.\n",
    "- This project was also my first introduction to how to collaborate with a team and how to connect frontend to backend, although our group was unsuccessful in doing the latter.\n",
    "- I learned through this project that we should have started with a clear plan and a more detailed breakdown of tasks to avoid confusion and miscommunication, especially in how to divide the roles. \n",
    "- ![cafe](../images/cafe.png)\n",
    "**Food Reviews**\n",
    "- Food Reviews was a website that allowed users to create accounts and post reviews of popular restaurants around the world\n",
    "- This time, I worked on making simple features for the \"Asia\" webpage and I also helped with the styling of the website.\n",
    "- Although our group was able to successfully connect frontend to backend, I copied what others were doing without understanding why, which led to confusion.\n",
    "- I learned that it's essential to have a clear understanding of the project's requirements and to communicate and ask for help to keep up with the rest of the team.\n",
    "- ![restaurant](../images/restaurant.png)\n",
    "**Genescope**\n",
    "- Genescope is a website from the Pilor City project that enables users to learn more about biotechnology through a series of interactive games and quizzes.\n",
    "- In this project, I felt that I was abel to contribute a lot more as a team member. I mainly worked on adding features such as a matching game and a couple of quizzes and instead of focusing on frontend work and styling repeatedly, I made sure that all of my features were related to backend work which helped better my understanding of it.\n",
    "- I learned that it's essential to be proactive and take initiative in a team project, and in doing so, I was able to adapt to the situation and create features that brought value to the overall website\n",
    "- Genescope was by far my favorite project because I think that I was able to let go of all the \"technical stuff\" and just got to creating my features and learning through the experience of doing so. \n",
    "- ![genescope](../images/genescope.png)\n",
    "**Unique Qualities**\n",
    "- I think that one unique quality that I was able to gain mainly through the Genescope project is that I am more adaptable. For example, I was able to completely alter or add something completely new to my feature to fit with the rest of the website or connect to the other features, which I feel is important because this ultimately allowed me to contribute to the overall project."
   ]
  },
  {
   "cell_type": "markdown",
   "id": "a3833e8d",
   "metadata": {},
   "source": [
    "## Homeworks\n",
    "- Picture of notes recorded on Github Issues during Team Teaches \n",
    "- ![hwk](../images/hwk.png)\n",
    "- Examples of Completed Homeworks\n",
    "- <a href=\"http://127.0.0.1:4100/zoehe_2025/simulations-games/\" target=\"_blank\" style=\"display:inline-block; padding:10px 20px; font-size:16px; color:white; background-color:#0077B5; border-radius:8px; text-decoration:none; font-family: 'Segoe UI', sans-serif;\">Simulation, Games and Random Algorithms Homework</a>\n",
    "- <a href=\"http://127.0.0.1:4100/zoehe_2025/big-o-efficiency/\" target=\"_blank\" style=\"display:inline-block; padding:10px 20px; font-size:16px; color:white; background-color:#0077B5; border-radius:8px; text-decoration:none; font-family: 'Segoe UI', sans-serif;\">Big O Efficiency Homework</a>\n",
    "- <a href=\"http://127.0.0.1:4100/zoehe_2025/undecidable-graphs/\" target=\"_blank\" style=\"display:inline-block; padding:10px 20px; font-size:16px; color:white; background-color:#0077B5; border-radius:8px; text-decoration:none; font-family: 'Segoe UI', sans-serif;\">Undecideable, Graphs, Heuristics Homework</a>"
   ]
  },
  {
   "cell_type": "markdown",
   "id": "258f5bf3",
   "metadata": {},
   "source": [
    "## N@M Showcase\n",
    "- At the N@M event, we showcased our project to parents, friends, and other students by each taking turns talking and describing our features. We also demo-ed our featuers as we explained to show off our project's capabilities.\n",
    "- I specifically demonstrated the features that I had created, mainly the matching game, but allowed others to interact with the different games and quizzes that I had step up\n",
    "- Overall, we were able to receieve feedback on our website for ways to improve but generally received a positive response from others\n",
    "- ![natm1](../images/natm1.png)\n",
    "- ![natm2](../images/natm2.png)\n",
    "- Personal reflection: I think that this was by far one of the more enjoyable N@M events that I have had because working on the Genescope project really allowed me to be more open-minded to coding. I was able to create featuers and games that I enjoyed making and found that it was really fun being able to explain and see others interact with the features I created.\n"
   ]
  },
  {
   "cell_type": "markdown",
   "id": "2ec030ac",
   "metadata": {},
   "source": [
    "## Statistics\n",
    "- Issues\n",
    "- ![issue](../images/issue.png)\n",
    "- ![geneissue](../images/geneissue.png)\n",
    "- Commit History\n",
    "- ![commits](../images/commits.png)\n",
    "- (2025) ![squares](../images/squares.png)\n",
    "- Pull Requests\n",
    "- ![pull](../images/pull.png)"
   ]
  },
  {
   "cell_type": "markdown",
   "id": "9af503e3",
   "metadata": {},
   "source": [
    "## Final Reflection\n",
    "- Computer science is something that I struggled with throughout the course of trimester 1 and trimester 2. However, I believe that I improved as a coder in trimester 3 where I felt more comfortable and confident in my ability to create a website. Before, I had felt unsure about coding and couldn't make meaningful contributions to the overall group project, but in our Pilot City project, I stopped trying to worry about all of the \"technical things\" and instead focused on learning through the experience of creating a feature. Overall, I feel that APCSP has not just improved my knowledge and understanding of coding, but it has also allowed me to become more adaptive and persistent when it comes to facing challenges in coding and helped me develop better problem-solving skills."
   ]
  }
 ],
 "metadata": {
  "language_info": {
   "name": "python"
  }
 },
 "nbformat": 4,
 "nbformat_minor": 5
}
